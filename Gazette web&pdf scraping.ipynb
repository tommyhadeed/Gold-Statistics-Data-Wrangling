{
 "cells": [
  {
   "cell_type": "code",
   "execution_count": 7,
   "id": "earlier-square",
   "metadata": {},
   "outputs": [],
   "source": [
    "import requests\n",
    "from bs4 import BeautifulSoup\n",
    "import pandas as pd"
   ]
  },
  {
   "cell_type": "code",
   "execution_count": 2,
   "id": "extra-conversion",
   "metadata": {},
   "outputs": [],
   "source": [
    "from lxml import etree"
   ]
  },
  {
   "cell_type": "code",
   "execution_count": 7,
   "id": "incredible-sweden",
   "metadata": {},
   "outputs": [],
   "source": [
    "from fuzzywuzzy import process\n",
    "from fuzzywuzzy import fuzz"
   ]
  },
  {
   "cell_type": "code",
   "execution_count": 8,
   "id": "opposite-consortium",
   "metadata": {},
   "outputs": [],
   "source": [
    "def get_matches(query, choices, limit=2):\n",
    "    results = process.extract(query, choices, limit=limit)\n",
    "    return results"
   ]
  },
  {
   "cell_type": "markdown",
   "id": "narrow-lesson",
   "metadata": {},
   "source": [
    "# Webscraping"
   ]
  },
  {
   "cell_type": "code",
   "execution_count": 3,
   "id": "crazy-insulation",
   "metadata": {},
   "outputs": [],
   "source": [
    "gazette_url = \"https://www.thegazette.co.uk/all-notices/London/notice?results-page-size=100&categorycode-all=all&numberOfLocationSearches=1&start-publish-date=1859-01-01&location-distance-1=1&sort-by=oldest-date&text=%22Office+of+the+Inspector-General%22+%22gold%22&end-publish-date=1860-01-01\""
   ]
  },
  {
   "cell_type": "code",
   "execution_count": 4,
   "id": "juvenile-hundred",
   "metadata": {},
   "outputs": [],
   "source": [
    "headers = {'User-Agent': 'Mozilla/5.0 (Macintosh; Intel Mac OS X 10_15_7) AppleWebKit/537.36 (KHTML, like Gecko) Chrome/100.0.4896.127 Safari/537.36'}"
   ]
  },
  {
   "cell_type": "code",
   "execution_count": 5,
   "id": "entitled-delicious",
   "metadata": {},
   "outputs": [],
   "source": [
    "response = requests.get(gazette_url, headers=headers)"
   ]
  },
  {
   "cell_type": "code",
   "execution_count": 6,
   "id": "royal-australian",
   "metadata": {},
   "outputs": [
    {
     "data": {
      "text/plain": [
       "<Response [200]>"
      ]
     },
     "execution_count": 6,
     "metadata": {},
     "output_type": "execute_result"
    }
   ],
   "source": [
    "response"
   ]
  },
  {
   "cell_type": "code",
   "execution_count": 7,
   "id": "worse-amazon",
   "metadata": {},
   "outputs": [],
   "source": [
    "page = response.content"
   ]
  },
  {
   "cell_type": "code",
   "execution_count": 1,
   "id": "together-ratio",
   "metadata": {},
   "outputs": [],
   "source": [
    "#page"
   ]
  },
  {
   "cell_type": "code",
   "execution_count": 10,
   "id": "scenic-shelter",
   "metadata": {},
   "outputs": [],
   "source": [
    "soup = BeautifulSoup(page, \"html.parser\")"
   ]
  },
  {
   "cell_type": "code",
   "execution_count": 11,
   "id": "subtle-print",
   "metadata": {},
   "outputs": [],
   "source": [
    "dom = etree.HTML(str(soup))"
   ]
  },
  {
   "cell_type": "code",
   "execution_count": 12,
   "id": "departmental-marks",
   "metadata": {},
   "outputs": [],
   "source": [
    "testing = dom.xpath('//*[@id=\"item-\"]/div/header/h3/a')"
   ]
  },
  {
   "cell_type": "code",
   "execution_count": 13,
   "id": "increased-rates",
   "metadata": {},
   "outputs": [
    {
     "data": {
      "text/plain": [
       "51"
      ]
     },
     "execution_count": 13,
     "metadata": {},
     "output_type": "execute_result"
    }
   ],
   "source": [
    "len(testing)"
   ]
  },
  {
   "cell_type": "code",
   "execution_count": null,
   "id": "sonic-charleston",
   "metadata": {},
   "outputs": [],
   "source": []
  },
  {
   "cell_type": "code",
   "execution_count": null,
   "id": "bulgarian-solomon",
   "metadata": {},
   "outputs": [],
   "source": []
  },
  {
   "cell_type": "code",
   "execution_count": null,
   "id": "incorporated-import",
   "metadata": {},
   "outputs": [],
   "source": []
  },
  {
   "cell_type": "markdown",
   "id": "ancient-rehabilitation",
   "metadata": {},
   "source": [
    "# PDF Scraping"
   ]
  },
  {
   "cell_type": "code",
   "execution_count": 1,
   "id": "incident-disaster",
   "metadata": {},
   "outputs": [],
   "source": [
    "import tabula as tb\n",
    "import pandas as pd\n",
    "import re"
   ]
  },
  {
   "cell_type": "code",
   "execution_count": 2,
   "id": "moderate-picture",
   "metadata": {},
   "outputs": [],
   "source": [
    "file = \"1858_gold_silver_imex.pdf\""
   ]
  },
  {
   "cell_type": "code",
   "execution_count": 11,
   "id": "scientific-legend",
   "metadata": {},
   "outputs": [
    {
     "name": "stdout",
     "output_type": "stream",
     "text": [
      "java version \"1.8.0_331\"\r\n",
      "Java(TM) SE Runtime Environment (build 1.8.0_331-b09)\r\n",
      "Java HotSpot(TM) 64-Bit Server VM (build 25.331-b09, mixed mode)\r\n"
     ]
    }
   ],
   "source": [
    "!java -version"
   ]
  },
  {
   "cell_type": "code",
   "execution_count": null,
   "id": "upset-memorabilia",
   "metadata": {},
   "outputs": [],
   "source": []
  },
  {
   "cell_type": "markdown",
   "id": "manufactured-liquid",
   "metadata": {},
   "source": [
    "## imports 1858"
   ]
  },
  {
   "cell_type": "code",
   "execution_count": 4,
   "id": "armed-ambassador",
   "metadata": {},
   "outputs": [],
   "source": [
    "imports1 = tb.read_pdf(file, pages = \"1\", area = (165, 0, 375, 800), pandas_options={'header': None}, stream=True)[0]\n",
    "#imports1"
   ]
  },
  {
   "cell_type": "code",
   "execution_count": 5,
   "id": "dental-festival",
   "metadata": {},
   "outputs": [],
   "source": [
    "for k in range(1,51):\n",
    "    globals()['import%s' % k] = tb.read_pdf(file, pages = k, area = (165, 0, 375, 800), \n",
    "                                            pandas_options={'header': None}, stream=True)[0].set_index(0)"
   ]
  },
  {
   "cell_type": "code",
   "execution_count": 9,
   "id": "complicated-senegal",
   "metadata": {},
   "outputs": [],
   "source": [
    "#create empty dictionary to be filled with {page number:import values row}\n",
    "import_dict = {}\n",
    "\n",
    "for k in range(1,51):\n",
    "    #get index list for the import dataframe on page k\n",
    "    index_list = globals()['import%s' % k].index.tolist()\n",
    "\n",
    "    #get top two fuzzy matches from the index list\n",
    "    row_options = get_matches(\"Importations\", index_list)\n",
    "\n",
    "    #organize fuzzy matches to access easier\n",
    "    tuples = []\n",
    "    for var in row_options:\n",
    "        tuples.append(var[0])\n",
    "\n",
    "    #create dict with matches and their fuzz ratios and get the key of the higher value\n",
    "    #may have to improve this for page 10 issue; something better to compare than fuzz ratio??\n",
    "    row_fuzzratio_dict = {fuzz.ratio(\"Importations\",tuples[0]): tuples[0], \n",
    "                          fuzz.ratio(\"Importations\",tuples[1]): tuples[1]}\n",
    "    max_key = max(row_fuzzratio_dict, key=row_fuzzratio_dict.get)\n",
    "\n",
    "    #get row values from highest fuzz ratio match row\n",
    "    total_value_row = globals()['import%s' % k].loc[row_fuzzratio_dict[max_key]].tolist()\n",
    "    \n",
    "    #add the import values row to the import_dict dictionary\n",
    "    import_dict[k] = total_value_row"
   ]
  },
  {
   "cell_type": "code",
   "execution_count": 10,
   "id": "dangerous-western",
   "metadata": {},
   "outputs": [],
   "source": [
    "## need to fix this so i dont have to delete this page then re-add it!!!!\n",
    "del import_dict[10]"
   ]
  },
  {
   "cell_type": "code",
   "execution_count": 376,
   "id": "altered-swimming",
   "metadata": {},
   "outputs": [],
   "source": [
    "## shouldnt need this anymore because only worried about the last element in each list\n",
    "## originally did this to get the gold values too but this is unnecessary thanks to Einzig\n",
    "# for key,value in import_dict.items():\n",
    "#     for x,y in enumerate(value):\n",
    "#         k = str(y)\n",
    "#         import_dict[key][x] = k\n",
    "#     z = [x for x in value if x != 'nan']\n",
    "#     import_dict.update({key: z})"
   ]
  },
  {
   "cell_type": "code",
   "execution_count": 11,
   "id": "wound-frequency",
   "metadata": {},
   "outputs": [],
   "source": [
    "#create empty string to hold the silver import value of each week\n",
    "int_list_of_silver_import_values = []\n",
    "\n",
    "for key in import_dict:\n",
    "    \n",
    "    last_element = (len(import_dict[key])-1)\n",
    "    \n",
    "    #remove the commas from the last value of the import values row and convert it to int\n",
    "    silver_import_value = import_dict[key][last_element]\n",
    "    comma_less_value = silver_import_value.replace(\",\" , \"\")\n",
    "    silver_import_int_value = int(comma_less_value)\n",
    "    \n",
    "    #add the int value of silver import value from each week to the originally empty list\n",
    "    int_list_of_silver_import_values.append(silver_import_int_value)\n",
    " \n",
    "#sum all the values of the list to get the total silver import value for the whole year\n",
    "#sum(int_list_of_silver_import_values)"
   ]
  },
  {
   "cell_type": "code",
   "execution_count": 17,
   "id": "internal-cocktail",
   "metadata": {},
   "outputs": [
    {
     "data": {
      "text/plain": [
       "6241224"
      ]
     },
     "execution_count": 17,
     "metadata": {},
     "output_type": "execute_result"
    }
   ],
   "source": [
    "sum(int_list_of_silver_import_values) +201105"
   ]
  },
  {
   "cell_type": "code",
   "execution_count": null,
   "id": "divided-marina",
   "metadata": {},
   "outputs": [],
   "source": []
  },
  {
   "cell_type": "markdown",
   "id": "liberal-simple",
   "metadata": {},
   "source": [
    "## exports 1858"
   ]
  },
  {
   "cell_type": "code",
   "execution_count": 384,
   "id": "above-vessel",
   "metadata": {},
   "outputs": [],
   "source": [
    "exports1 = tb.read_pdf(file, pages = \"1\", area = (490, 0, 720, 800), pandas_options={'header': None}, stream=True)[0]\n",
    "#exports1"
   ]
  },
  {
   "cell_type": "code",
   "execution_count": 385,
   "id": "minus-frontier",
   "metadata": {},
   "outputs": [],
   "source": [
    "exports2 = tb.read_pdf(file, pages=\"2\", area = (490, 0, 720, 800), pandas_options={'header': None}, stream=True)[0]\n",
    "#exports2"
   ]
  },
  {
   "cell_type": "code",
   "execution_count": null,
   "id": "republican-disease",
   "metadata": {},
   "outputs": [],
   "source": []
  }
 ],
 "metadata": {
  "kernelspec": {
   "display_name": "Python 3",
   "language": "python",
   "name": "python3"
  },
  "language_info": {
   "codemirror_mode": {
    "name": "ipython",
    "version": 3
   },
   "file_extension": ".py",
   "mimetype": "text/x-python",
   "name": "python",
   "nbconvert_exporter": "python",
   "pygments_lexer": "ipython3",
   "version": "3.9.1"
  }
 },
 "nbformat": 4,
 "nbformat_minor": 5
}
